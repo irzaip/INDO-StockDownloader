{
 "cells": [
  {
   "cell_type": "code",
   "execution_count": 1,
   "metadata": {},
   "outputs": [],
   "source": [
    "import pandas as pd\n",
    "import glob\n",
    "fl = glob.glob('./list/*.csv')"
   ]
  },
  {
   "cell_type": "code",
   "execution_count": 2,
   "metadata": {},
   "outputs": [],
   "source": [
    "df = pd.DataFrame()\n",
    "for i in fl:\n",
    "    df = df.append(pd.read_csv(i))"
   ]
  },
  {
   "cell_type": "code",
   "execution_count": 3,
   "metadata": {},
   "outputs": [],
   "source": [
    "df = df.reset_index()"
   ]
  },
  {
   "cell_type": "code",
   "execution_count": 4,
   "metadata": {},
   "outputs": [
    {
     "data": {
      "text/html": [
       "<div>\n",
       "<style scoped>\n",
       "    .dataframe tbody tr th:only-of-type {\n",
       "        vertical-align: middle;\n",
       "    }\n",
       "\n",
       "    .dataframe tbody tr th {\n",
       "        vertical-align: top;\n",
       "    }\n",
       "\n",
       "    .dataframe thead th {\n",
       "        text-align: right;\n",
       "    }\n",
       "</style>\n",
       "<table border=\"1\" class=\"dataframe\">\n",
       "  <thead>\n",
       "    <tr style=\"text-align: right;\">\n",
       "      <th></th>\n",
       "      <th>index</th>\n",
       "      <th>No</th>\n",
       "      <th>Kode</th>\n",
       "      <th>Nama</th>\n",
       "      <th>Tanggal Pencatatan</th>\n",
       "      <th>Saham</th>\n",
       "      <th>Papan Pencatatan</th>\n",
       "    </tr>\n",
       "  </thead>\n",
       "  <tbody>\n",
       "    <tr>\n",
       "      <th>0</th>\n",
       "      <td>0</td>\n",
       "      <td>1</td>\n",
       "      <td>AALI</td>\n",
       "      <td>Astra Agro Lestari Tbk.</td>\n",
       "      <td>09 Des 1997</td>\n",
       "      <td>1.924.688.333</td>\n",
       "      <td>UTAMA</td>\n",
       "    </tr>\n",
       "    <tr>\n",
       "      <th>1</th>\n",
       "      <td>1</td>\n",
       "      <td>2</td>\n",
       "      <td>ABBA</td>\n",
       "      <td>Mahaka Media Tbk.</td>\n",
       "      <td>03 Apr 2002</td>\n",
       "      <td>2.755.125.000</td>\n",
       "      <td>PENGEMBANGAN</td>\n",
       "    </tr>\n",
       "    <tr>\n",
       "      <th>2</th>\n",
       "      <td>2</td>\n",
       "      <td>3</td>\n",
       "      <td>ABDA</td>\n",
       "      <td>Asuransi Bina Dana Arta Tbk.</td>\n",
       "      <td>06 Jul 1989</td>\n",
       "      <td>620.806.680</td>\n",
       "      <td>PENGEMBANGAN</td>\n",
       "    </tr>\n",
       "    <tr>\n",
       "      <th>3</th>\n",
       "      <td>3</td>\n",
       "      <td>4</td>\n",
       "      <td>ABMM</td>\n",
       "      <td>ABM Investama Tbk.</td>\n",
       "      <td>06 Des 2011</td>\n",
       "      <td>2.753.165.000</td>\n",
       "      <td>UTAMA</td>\n",
       "    </tr>\n",
       "    <tr>\n",
       "      <th>4</th>\n",
       "      <td>4</td>\n",
       "      <td>5</td>\n",
       "      <td>ACES</td>\n",
       "      <td>Ace Hardware Indonesia Tbk.</td>\n",
       "      <td>06 Nov 2007</td>\n",
       "      <td>17.150.000.000</td>\n",
       "      <td>UTAMA</td>\n",
       "    </tr>\n",
       "  </tbody>\n",
       "</table>\n",
       "</div>"
      ],
      "text/plain": [
       "   index  No  Kode                          Nama Tanggal Pencatatan  \\\n",
       "0      0   1  AALI       Astra Agro Lestari Tbk.        09 Des 1997   \n",
       "1      1   2  ABBA             Mahaka Media Tbk.        03 Apr 2002   \n",
       "2      2   3  ABDA  Asuransi Bina Dana Arta Tbk.        06 Jul 1989   \n",
       "3      3   4  ABMM            ABM Investama Tbk.        06 Des 2011   \n",
       "4      4   5  ACES   Ace Hardware Indonesia Tbk.        06 Nov 2007   \n",
       "\n",
       "            Saham Papan Pencatatan  \n",
       "0   1.924.688.333            UTAMA  \n",
       "1   2.755.125.000     PENGEMBANGAN  \n",
       "2     620.806.680     PENGEMBANGAN  \n",
       "3   2.753.165.000            UTAMA  \n",
       "4  17.150.000.000            UTAMA  "
      ]
     },
     "execution_count": 4,
     "metadata": {},
     "output_type": "execute_result"
    }
   ],
   "source": [
    "df.head()"
   ]
  },
  {
   "cell_type": "code",
   "execution_count": 5,
   "metadata": {},
   "outputs": [],
   "source": [
    "df = df[['Kode','Nama','Tanggal Pencatatan','Saham','Papan Pencatatan']]"
   ]
  },
  {
   "cell_type": "code",
   "execution_count": 6,
   "metadata": {},
   "outputs": [],
   "source": [
    "df.to_csv('all_list.csv')"
   ]
  },
  {
   "cell_type": "code",
   "execution_count": 7,
   "metadata": {},
   "outputs": [],
   "source": [
    "fs = list(df['Kode']+\".JK\")"
   ]
  }
 ],
 "metadata": {
  "kernelspec": {
   "display_name": "Python 3",
   "language": "python",
   "name": "python3"
  },
  "language_info": {
   "codemirror_mode": {
    "name": "ipython",
    "version": 3
   },
   "file_extension": ".py",
   "mimetype": "text/x-python",
   "name": "python",
   "nbconvert_exporter": "python",
   "pygments_lexer": "ipython3",
   "version": "3.6.4"
  }
 },
 "nbformat": 4,
 "nbformat_minor": 2
}
