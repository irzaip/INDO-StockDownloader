{
 "cells": [
  {
   "cell_type": "code",
   "execution_count": 12,
   "metadata": {},
   "outputs": [],
   "source": [
    "import matplotlib.pyplot as plt\n",
    "import pandas as pd\n",
    "import sklearn"
   ]
  },
  {
   "cell_type": "code",
   "execution_count": 13,
   "metadata": {},
   "outputs": [],
   "source": [
    "df = pd.read_csv(\"./AALI.JK.csv\")"
   ]
  },
  {
   "cell_type": "code",
   "execution_count": 19,
   "metadata": {},
   "outputs": [
    {
     "data": {
      "text/html": [
       "<div>\n",
       "<style scoped>\n",
       "    .dataframe tbody tr th:only-of-type {\n",
       "        vertical-align: middle;\n",
       "    }\n",
       "\n",
       "    .dataframe tbody tr th {\n",
       "        vertical-align: top;\n",
       "    }\n",
       "\n",
       "    .dataframe thead th {\n",
       "        text-align: right;\n",
       "    }\n",
       "</style>\n",
       "<table border=\"1\" class=\"dataframe\">\n",
       "  <thead>\n",
       "    <tr style=\"text-align: right;\">\n",
       "      <th></th>\n",
       "      <th>Date</th>\n",
       "      <th>Open</th>\n",
       "      <th>High</th>\n",
       "      <th>Low</th>\n",
       "      <th>Close</th>\n",
       "      <th>Adj Close</th>\n",
       "      <th>Volume</th>\n",
       "    </tr>\n",
       "  </thead>\n",
       "  <tbody>\n",
       "    <tr>\n",
       "      <th>0</th>\n",
       "      <td>2001-04-05</td>\n",
       "      <td>571.710999</td>\n",
       "      <td>571.710999</td>\n",
       "      <td>547.888977</td>\n",
       "      <td>547.888977</td>\n",
       "      <td>283.126495</td>\n",
       "      <td>57722.0</td>\n",
       "    </tr>\n",
       "    <tr>\n",
       "      <th>1</th>\n",
       "      <td>2001-04-06</td>\n",
       "      <td>547.888977</td>\n",
       "      <td>547.888977</td>\n",
       "      <td>547.888977</td>\n",
       "      <td>547.888977</td>\n",
       "      <td>283.126495</td>\n",
       "      <td>83434.0</td>\n",
       "    </tr>\n",
       "    <tr>\n",
       "      <th>2</th>\n",
       "      <td>2001-04-09</td>\n",
       "      <td>547.888977</td>\n",
       "      <td>547.888977</td>\n",
       "      <td>547.888977</td>\n",
       "      <td>547.888977</td>\n",
       "      <td>283.126495</td>\n",
       "      <td>10495.0</td>\n",
       "    </tr>\n",
       "    <tr>\n",
       "      <th>3</th>\n",
       "      <td>2001-04-10</td>\n",
       "      <td>547.888977</td>\n",
       "      <td>547.888977</td>\n",
       "      <td>547.888977</td>\n",
       "      <td>547.888977</td>\n",
       "      <td>283.126495</td>\n",
       "      <td>352626.0</td>\n",
       "    </tr>\n",
       "    <tr>\n",
       "      <th>4</th>\n",
       "      <td>2001-04-11</td>\n",
       "      <td>547.888977</td>\n",
       "      <td>547.888977</td>\n",
       "      <td>547.888977</td>\n",
       "      <td>547.888977</td>\n",
       "      <td>283.126495</td>\n",
       "      <td>59296.0</td>\n",
       "    </tr>\n",
       "  </tbody>\n",
       "</table>\n",
       "</div>"
      ],
      "text/plain": [
       "         Date        Open        High         Low       Close   Adj Close  \\\n",
       "0  2001-04-05  571.710999  571.710999  547.888977  547.888977  283.126495   \n",
       "1  2001-04-06  547.888977  547.888977  547.888977  547.888977  283.126495   \n",
       "2  2001-04-09  547.888977  547.888977  547.888977  547.888977  283.126495   \n",
       "3  2001-04-10  547.888977  547.888977  547.888977  547.888977  283.126495   \n",
       "4  2001-04-11  547.888977  547.888977  547.888977  547.888977  283.126495   \n",
       "\n",
       "     Volume  \n",
       "0   57722.0  \n",
       "1   83434.0  \n",
       "2   10495.0  \n",
       "3  352626.0  \n",
       "4   59296.0  "
      ]
     },
     "execution_count": 19,
     "metadata": {},
     "output_type": "execute_result"
    }
   ],
   "source": [
    "df.head()"
   ]
  },
  {
   "cell_type": "code",
   "execution_count": 18,
   "metadata": {},
   "outputs": [
    {
     "data": {
      "text/plain": [
       "[<matplotlib.lines.Line2D at 0x2a61a095470>]"
      ]
     },
     "execution_count": 18,
     "metadata": {},
     "output_type": "execute_result"
    },
    {
     "data": {
      "image/png": "[encoded data removed]",
      "text/plain": [
       "<matplotlib.figure.Figure at 0x2a619c6aa90>"
      ]
     },
     "metadata": {},
     "output_type": "display_data"
    }
   ],
   "source": [
    "plt.plot(df['High'])"
   ]
  },
  {
   "cell_type": "code",
   "execution_count": null,
   "metadata": {},
   "outputs": [],
   "source": []
  }
 ],
 "metadata": {
  "kernelspec": {
   "display_name": "Python 3",
   "language": "python",
   "name": "python3"
  },
  "language_info": {
   "codemirror_mode": {
    "name": "ipython",
    "version": 3
   },
   "file_extension": ".py",
   "mimetype": "text/x-python",
   "name": "python",
   "nbconvert_exporter": "python",
   "pygments_lexer": "ipython3",
   "version": "3.6.4"
  }
 },
 "nbformat": 4,
 "nbformat_minor": 2
}
