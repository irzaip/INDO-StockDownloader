{
 "cells": [
  {
   "cell_type": "code",
   "execution_count": 40,
   "metadata": {},
   "outputs": [],
   "source": [
    "import numpy as np\n",
    "import pandas as pd\n",
    "import pandas_datareader.data as web\n",
    "import datetime\n",
    "import math\n",
    "import matplotlib.pyplot as plt\n",
    "from sklearn import preprocessing"
   ]
  },
  {
   "cell_type": "code",
   "execution_count": 45,
   "metadata": {},
   "outputs": [],
   "source": [
    "start = datetime.datetime(2018, 1, 1)\n",
    "end = datetime.datetime(2019, 11, 1)"
   ]
  },
  {
   "cell_type": "code",
   "execution_count": 46,
   "metadata": {},
   "outputs": [],
   "source": [
    "df = web.DataReader('INKP.JK','yahoo',start=start,end=end)"
   ]
  },
  {
   "cell_type": "code",
   "execution_count": 4,
   "metadata": {
    "scrolled": true
   },
   "outputs": [
    {
     "data": {
      "text/html": [
       "<div>\n",
       "<style scoped>\n",
       "    .dataframe tbody tr th:only-of-type {\n",
       "        vertical-align: middle;\n",
       "    }\n",
       "\n",
       "    .dataframe tbody tr th {\n",
       "        vertical-align: top;\n",
       "    }\n",
       "\n",
       "    .dataframe thead th {\n",
       "        text-align: right;\n",
       "    }\n",
       "</style>\n",
       "<table border=\"1\" class=\"dataframe\">\n",
       "  <thead>\n",
       "    <tr style=\"text-align: right;\">\n",
       "      <th></th>\n",
       "      <th>High</th>\n",
       "      <th>Low</th>\n",
       "      <th>Open</th>\n",
       "      <th>Close</th>\n",
       "      <th>Volume</th>\n",
       "      <th>Adj Close</th>\n",
       "    </tr>\n",
       "    <tr>\n",
       "      <th>Date</th>\n",
       "      <th></th>\n",
       "      <th></th>\n",
       "      <th></th>\n",
       "      <th></th>\n",
       "      <th></th>\n",
       "      <th></th>\n",
       "    </tr>\n",
       "  </thead>\n",
       "  <tbody>\n",
       "    <tr>\n",
       "      <th>2014-11-05</th>\n",
       "      <td>8175.0</td>\n",
       "      <td>6900.0</td>\n",
       "      <td>7450.0</td>\n",
       "      <td>7450.0</td>\n",
       "      <td>21777100.0</td>\n",
       "      <td>6897.304199</td>\n",
       "    </tr>\n",
       "    <tr>\n",
       "      <th>2014-11-06</th>\n",
       "      <td>7675.0</td>\n",
       "      <td>7500.0</td>\n",
       "      <td>7625.0</td>\n",
       "      <td>7625.0</td>\n",
       "      <td>6653200.0</td>\n",
       "      <td>7059.321289</td>\n",
       "    </tr>\n",
       "    <tr>\n",
       "      <th>2014-11-07</th>\n",
       "      <td>7675.0</td>\n",
       "      <td>7525.0</td>\n",
       "      <td>7525.0</td>\n",
       "      <td>7525.0</td>\n",
       "      <td>2698500.0</td>\n",
       "      <td>6966.739258</td>\n",
       "    </tr>\n",
       "    <tr>\n",
       "      <th>2014-11-10</th>\n",
       "      <td>7575.0</td>\n",
       "      <td>7175.0</td>\n",
       "      <td>7250.0</td>\n",
       "      <td>7250.0</td>\n",
       "      <td>2018400.0</td>\n",
       "      <td>6712.141113</td>\n",
       "    </tr>\n",
       "    <tr>\n",
       "      <th>2014-11-11</th>\n",
       "      <td>7550.0</td>\n",
       "      <td>7250.0</td>\n",
       "      <td>7500.0</td>\n",
       "      <td>7500.0</td>\n",
       "      <td>797300.0</td>\n",
       "      <td>6943.594238</td>\n",
       "    </tr>\n",
       "  </tbody>\n",
       "</table>\n",
       "</div>"
      ],
      "text/plain": [
       "              High     Low    Open   Close      Volume    Adj Close\n",
       "Date                                                               \n",
       "2014-11-05  8175.0  6900.0  7450.0  7450.0  21777100.0  6897.304199\n",
       "2014-11-06  7675.0  7500.0  7625.0  7625.0   6653200.0  7059.321289\n",
       "2014-11-07  7675.0  7525.0  7525.0  7525.0   2698500.0  6966.739258\n",
       "2014-11-10  7575.0  7175.0  7250.0  7250.0   2018400.0  6712.141113\n",
       "2014-11-11  7550.0  7250.0  7500.0  7500.0    797300.0  6943.594238"
      ]
     },
     "execution_count": 4,
     "metadata": {},
     "output_type": "execute_result"
    }
   ],
   "source": [
    "df.head()"
   ]
  },
  {
   "cell_type": "code",
   "execution_count": 5,
   "metadata": {},
   "outputs": [],
   "source": [
    "dfreg = df"
   ]
  },
  {
   "cell_type": "markdown",
   "metadata": {},
   "source": [
    "## FEATURE ENGINEERING"
   ]
  },
  {
   "cell_type": "code",
   "execution_count": 6,
   "metadata": {},
   "outputs": [],
   "source": [
    "dfreg = df.loc[:,['Adj Close','Volume']]\n",
    "dfreg['HL_PCT'] = (df['High'] - df['Low']) / df['Close'] * 100.0\n",
    "dfreg['PCT_change'] = (df['Close'] - df['Open']) / df['Open'] * 100.0"
   ]
  },
  {
   "cell_type": "code",
   "execution_count": 7,
   "metadata": {},
   "outputs": [
    {
     "data": {
      "text/html": [
       "<div>\n",
       "<style scoped>\n",
       "    .dataframe tbody tr th:only-of-type {\n",
       "        vertical-align: middle;\n",
       "    }\n",
       "\n",
       "    .dataframe tbody tr th {\n",
       "        vertical-align: top;\n",
       "    }\n",
       "\n",
       "    .dataframe thead th {\n",
       "        text-align: right;\n",
       "    }\n",
       "</style>\n",
       "<table border=\"1\" class=\"dataframe\">\n",
       "  <thead>\n",
       "    <tr style=\"text-align: right;\">\n",
       "      <th></th>\n",
       "      <th>Adj Close</th>\n",
       "      <th>Volume</th>\n",
       "      <th>HL_PCT</th>\n",
       "      <th>PCT_change</th>\n",
       "    </tr>\n",
       "    <tr>\n",
       "      <th>Date</th>\n",
       "      <th></th>\n",
       "      <th></th>\n",
       "      <th></th>\n",
       "      <th></th>\n",
       "    </tr>\n",
       "  </thead>\n",
       "  <tbody>\n",
       "    <tr>\n",
       "      <th>2014-11-05</th>\n",
       "      <td>6897.304199</td>\n",
       "      <td>21777100.0</td>\n",
       "      <td>17.114094</td>\n",
       "      <td>0.0</td>\n",
       "    </tr>\n",
       "    <tr>\n",
       "      <th>2014-11-06</th>\n",
       "      <td>7059.321289</td>\n",
       "      <td>6653200.0</td>\n",
       "      <td>2.295082</td>\n",
       "      <td>0.0</td>\n",
       "    </tr>\n",
       "    <tr>\n",
       "      <th>2014-11-07</th>\n",
       "      <td>6966.739258</td>\n",
       "      <td>2698500.0</td>\n",
       "      <td>1.993355</td>\n",
       "      <td>0.0</td>\n",
       "    </tr>\n",
       "    <tr>\n",
       "      <th>2014-11-10</th>\n",
       "      <td>6712.141113</td>\n",
       "      <td>2018400.0</td>\n",
       "      <td>5.517241</td>\n",
       "      <td>0.0</td>\n",
       "    </tr>\n",
       "    <tr>\n",
       "      <th>2014-11-11</th>\n",
       "      <td>6943.594238</td>\n",
       "      <td>797300.0</td>\n",
       "      <td>4.000000</td>\n",
       "      <td>0.0</td>\n",
       "    </tr>\n",
       "  </tbody>\n",
       "</table>\n",
       "</div>"
      ],
      "text/plain": [
       "              Adj Close      Volume     HL_PCT  PCT_change\n",
       "Date                                                      \n",
       "2014-11-05  6897.304199  21777100.0  17.114094         0.0\n",
       "2014-11-06  7059.321289   6653200.0   2.295082         0.0\n",
       "2014-11-07  6966.739258   2698500.0   1.993355         0.0\n",
       "2014-11-10  6712.141113   2018400.0   5.517241         0.0\n",
       "2014-11-11  6943.594238    797300.0   4.000000         0.0"
      ]
     },
     "execution_count": 7,
     "metadata": {},
     "output_type": "execute_result"
    }
   ],
   "source": [
    "dfreg.head()"
   ]
  },
  {
   "cell_type": "code",
   "execution_count": 8,
   "metadata": {
    "scrolled": true
   },
   "outputs": [
    {
     "data": {
      "text/plain": [
       "[<matplotlib.lines.Line2D at 0x1db1a3d94e0>]"
      ]
     },
     "execution_count": 8,
     "metadata": {},
     "output_type": "execute_result"
    },
    {
     "data": {
      "image/png": "[encoded data removed]",
      "text/plain": [
       "<matplotlib.figure.Figure at 0x1db1a426d68>"
      ]
     },
     "metadata": {},
     "output_type": "display_data"
    }
   ],
   "source": [
    "plt.plot(dfreg['Adj Close'])"
   ]
  },
  {
   "cell_type": "code",
   "execution_count": 9,
   "metadata": {},
   "outputs": [],
   "source": [
    "# Drop missing value\n",
    "#dfreg.fillna(value=-99999, inplace=True)\n",
    "dfreg = dfreg.dropna()"
   ]
  },
  {
   "cell_type": "code",
   "execution_count": 10,
   "metadata": {},
   "outputs": [],
   "source": [
    "# We want to separate 1 percent of the data to forecast\n",
    "#forecast_out = int(math.ceil(0.01 * len(dfreg)))\n",
    "forecast_out = 7"
   ]
  },
  {
   "cell_type": "code",
   "execution_count": 11,
   "metadata": {},
   "outputs": [
    {
     "data": {
      "text/plain": [
       "7"
      ]
     },
     "execution_count": 11,
     "metadata": {},
     "output_type": "execute_result"
    }
   ],
   "source": [
    "forecast_out"
   ]
  },
  {
   "cell_type": "code",
   "execution_count": 12,
   "metadata": {},
   "outputs": [],
   "source": [
    "# Separating the label here, we want to predict the AdjClose\n",
    "forecast_col = 'Adj Close'\n",
    "dfreg['label'] = dfreg[forecast_col].shift(-forecast_out)"
   ]
  },
  {
   "cell_type": "code",
   "execution_count": 13,
   "metadata": {},
   "outputs": [],
   "source": [
    "X = np.array(dfreg.drop(['label'], 1))"
   ]
  },
  {
   "cell_type": "code",
   "execution_count": 14,
   "metadata": {},
   "outputs": [],
   "source": [
    "# Scale the X so that everyone can have the same distribution for linear regression\n",
    "X = preprocessing.scale(X)"
   ]
  },
  {
   "cell_type": "code",
   "execution_count": 15,
   "metadata": {},
   "outputs": [],
   "source": [
    "# Finally We want to find Data Series of late X and early X (train) for model generation and evaluation\n",
    "X_lately = X[-forecast_out:]\n",
    "X = X[:-forecast_out]"
   ]
  },
  {
   "cell_type": "code",
   "execution_count": 16,
   "metadata": {},
   "outputs": [],
   "source": [
    "# Separate label and identify it as y\n",
    "y = np.array(dfreg['label'])\n",
    "y = y[:-forecast_out]"
   ]
  },
  {
   "cell_type": "code",
   "execution_count": 17,
   "metadata": {},
   "outputs": [],
   "source": [
    "X_train = X\n",
    "y_train = y"
   ]
  },
  {
   "cell_type": "code",
   "execution_count": 18,
   "metadata": {},
   "outputs": [],
   "source": [
    "from sklearn.linear_model import LinearRegression\n",
    "from sklearn.neighbors import KNeighborsRegressor\n",
    "\n",
    "from sklearn.linear_model import Ridge\n",
    "from sklearn.preprocessing import PolynomialFeatures\n",
    "from sklearn.pipeline import make_pipeline\n",
    "from sklearn.model_selection import train_test_split"
   ]
  },
  {
   "cell_type": "code",
   "execution_count": 19,
   "metadata": {},
   "outputs": [
    {
     "data": {
      "text/plain": [
       "LinearRegression(copy_X=True, fit_intercept=True, n_jobs=-1, normalize=False)"
      ]
     },
     "execution_count": 19,
     "metadata": {},
     "output_type": "execute_result"
    }
   ],
   "source": [
    "# Linear regression\n",
    "clfreg = LinearRegression(n_jobs=-1)\n",
    "clfreg.fit(X_train, y_train)"
   ]
  },
  {
   "cell_type": "code",
   "execution_count": 20,
   "metadata": {},
   "outputs": [
    {
     "data": {
      "text/plain": [
       "Pipeline(memory=None,\n",
       "     steps=[('polynomialfeatures', PolynomialFeatures(degree=2, include_bias=True, interaction_only=False)), ('ridge', Ridge(alpha=1.0, copy_X=True, fit_intercept=True, max_iter=None,\n",
       "   normalize=False, random_state=None, solver='auto', tol=0.001))])"
      ]
     },
     "execution_count": 20,
     "metadata": {},
     "output_type": "execute_result"
    }
   ],
   "source": [
    "# Quadratic Regression 2\n",
    "clfpoly2 = make_pipeline(PolynomialFeatures(2), Ridge())\n",
    "clfpoly2.fit(X_train, y_train)"
   ]
  },
  {
   "cell_type": "code",
   "execution_count": 21,
   "metadata": {},
   "outputs": [
    {
     "data": {
      "text/plain": [
       "Pipeline(memory=None,\n",
       "     steps=[('polynomialfeatures', PolynomialFeatures(degree=3, include_bias=True, interaction_only=False)), ('ridge', Ridge(alpha=1.0, copy_X=True, fit_intercept=True, max_iter=None,\n",
       "   normalize=False, random_state=None, solver='auto', tol=0.001))])"
      ]
     },
     "execution_count": 21,
     "metadata": {},
     "output_type": "execute_result"
    }
   ],
   "source": [
    "# Quadratic Regression 3\n",
    "clfpoly3 = make_pipeline(PolynomialFeatures(3), Ridge())\n",
    "clfpoly3.fit(X_train, y_train)"
   ]
  },
  {
   "cell_type": "code",
   "execution_count": 22,
   "metadata": {},
   "outputs": [
    {
     "data": {
      "text/plain": [
       "KNeighborsRegressor(algorithm='auto', leaf_size=30, metric='minkowski',\n",
       "          metric_params=None, n_jobs=1, n_neighbors=2, p=2,\n",
       "          weights='uniform')"
      ]
     },
     "execution_count": 22,
     "metadata": {},
     "output_type": "execute_result"
    }
   ],
   "source": [
    "# KNN Regression\n",
    "clfknn = KNeighborsRegressor(n_neighbors=2)\n",
    "clfknn.fit(X_train, y_train)"
   ]
  },
  {
   "cell_type": "code",
   "execution_count": 23,
   "metadata": {},
   "outputs": [],
   "source": [
    "X_train, X_test, y_train, y_test = train_test_split(X_train, y_train, test_size=0.2, random_state=45)"
   ]
  },
  {
   "cell_type": "code",
   "execution_count": 24,
   "metadata": {},
   "outputs": [
    {
     "name": "stdout",
     "output_type": "stream",
     "text": [
      "The linear regression confidence is  0.9672801876729832\n",
      "The quadratic regression 2 confidence is  0.965877472015199\n",
      "The quadratic regression 3 confidence is  0.9682436445942646\n",
      "The knn regression confidence is  0.9776551538375287\n"
     ]
    }
   ],
   "source": [
    "confidencereg = clfreg.score(X_test, y_test)\n",
    "confidencepoly2 = clfpoly2.score(X_test,y_test)\n",
    "confidencepoly3 = clfpoly3.score(X_test,y_test)\n",
    "confidenceknn = clfknn.score(X_test, y_test)\n",
    "\n",
    "print('The linear regression confidence is ', confidencereg)\n",
    "print('The quadratic regression 2 confidence is ',confidencepoly2)\n",
    "print('The quadratic regression 3 confidence is ', confidencepoly3)\n",
    "print('The knn regression confidence is ', confidenceknn)      "
   ]
  },
  {
   "cell_type": "code",
   "execution_count": 25,
   "metadata": {},
   "outputs": [],
   "source": [
    "clf = clfreg"
   ]
  },
  {
   "cell_type": "code",
   "execution_count": 26,
   "metadata": {
    "scrolled": true
   },
   "outputs": [
    {
     "data": {
      "text/plain": [
       "array([[-0.55127642, -0.40926491,  0.74264842,  1.68962316],\n",
       "       [-0.57868573, -0.44947821, -0.23991726, -0.52060454],\n",
       "       [-0.50559448, -0.46510696,  0.2161873 ,  1.36878036],\n",
       "       [-0.47818517, -0.47933087, -0.36036222,  0.53835365],\n",
       "       [-0.47818517, -0.48091131, -0.20050561,  0.01482376],\n",
       "       [-0.47818517, -0.51216881, -0.83993206,  0.18779619],\n",
       "       [-0.56041286, -0.4894281 ,  0.41811759, -1.53510025]])"
      ]
     },
     "execution_count": 26,
     "metadata": {},
     "output_type": "execute_result"
    }
   ],
   "source": [
    "X_lately"
   ]
  },
  {
   "cell_type": "code",
   "execution_count": 27,
   "metadata": {},
   "outputs": [],
   "source": [
    "forecast_set = clf.predict(X_lately)\n",
    "dfreg['Forecast'] = np.nan"
   ]
  },
  {
   "cell_type": "code",
   "execution_count": 28,
   "metadata": {},
   "outputs": [],
   "source": [
    "last_date = dfreg.iloc[-1].name\n",
    "last_unix = last_date\n",
    "next_unix = last_unix + datetime.timedelta(days=1)"
   ]
  },
  {
   "cell_type": "code",
   "execution_count": 29,
   "metadata": {},
   "outputs": [
    {
     "name": "stdout",
     "output_type": "stream",
     "text": [
      "6 [4241.998876211148]\n",
      "6 [4149.674649783357]\n",
      "6 [4327.0019552585]\n",
      "6 [4367.737673816762]\n",
      "6 [4363.227091977443]\n",
      "6 [4358.8165147686705]\n",
      "6 [4182.251673605267]\n"
     ]
    }
   ],
   "source": [
    "for i in forecast_set:\n",
    "    next_date = next_unix\n",
    "    next_unix += datetime.timedelta(days=1)\n",
    "    dfreg.loc[next_date] = [np.nan for _ in range(len(dfreg.columns)-1)]+[i]\n",
    "    print(len(dfreg.columns),[i])"
   ]
  },
  {
   "cell_type": "code",
   "execution_count": 30,
   "metadata": {
    "scrolled": true
   },
   "outputs": [
    {
     "data": {
      "text/plain": [
       "Timestamp('2017-11-09 00:00:00')"
      ]
     },
     "execution_count": 30,
     "metadata": {},
     "output_type": "execute_result"
    }
   ],
   "source": [
    "next_date"
   ]
  },
  {
   "cell_type": "code",
   "execution_count": 31,
   "metadata": {},
   "outputs": [
    {
     "data": {
      "text/html": [
       "<div>\n",
       "<style scoped>\n",
       "    .dataframe tbody tr th:only-of-type {\n",
       "        vertical-align: middle;\n",
       "    }\n",
       "\n",
       "    .dataframe tbody tr th {\n",
       "        vertical-align: top;\n",
       "    }\n",
       "\n",
       "    .dataframe thead th {\n",
       "        text-align: right;\n",
       "    }\n",
       "</style>\n",
       "<table border=\"1\" class=\"dataframe\">\n",
       "  <thead>\n",
       "    <tr style=\"text-align: right;\">\n",
       "      <th></th>\n",
       "      <th>Adj Close</th>\n",
       "      <th>Volume</th>\n",
       "      <th>HL_PCT</th>\n",
       "      <th>PCT_change</th>\n",
       "      <th>label</th>\n",
       "      <th>Forecast</th>\n",
       "    </tr>\n",
       "    <tr>\n",
       "      <th>Date</th>\n",
       "      <th></th>\n",
       "      <th></th>\n",
       "      <th></th>\n",
       "      <th></th>\n",
       "      <th></th>\n",
       "      <th></th>\n",
       "    </tr>\n",
       "  </thead>\n",
       "  <tbody>\n",
       "    <tr>\n",
       "      <th>2017-09-05</th>\n",
       "      <td>4531.942871</td>\n",
       "      <td>15300.0</td>\n",
       "      <td>0.634249</td>\n",
       "      <td>-0.210970</td>\n",
       "      <td>4551.105469</td>\n",
       "      <td>NaN</td>\n",
       "    </tr>\n",
       "    <tr>\n",
       "      <th>2017-09-06</th>\n",
       "      <td>4531.942871</td>\n",
       "      <td>11700.0</td>\n",
       "      <td>0.211416</td>\n",
       "      <td>0.000000</td>\n",
       "      <td>4560.686523</td>\n",
       "      <td>NaN</td>\n",
       "    </tr>\n",
       "    <tr>\n",
       "      <th>2017-09-07</th>\n",
       "      <td>4484.036133</td>\n",
       "      <td>93200.0</td>\n",
       "      <td>1.709402</td>\n",
       "      <td>-1.057082</td>\n",
       "      <td>4570.268066</td>\n",
       "      <td>NaN</td>\n",
       "    </tr>\n",
       "    <tr>\n",
       "      <th>2017-09-08</th>\n",
       "      <td>4589.430176</td>\n",
       "      <td>171100.0</td>\n",
       "      <td>2.713987</td>\n",
       "      <td>2.569593</td>\n",
       "      <td>4608.592773</td>\n",
       "      <td>NaN</td>\n",
       "    </tr>\n",
       "    <tr>\n",
       "      <th>2017-09-11</th>\n",
       "      <td>4541.523926</td>\n",
       "      <td>87000.0</td>\n",
       "      <td>1.265823</td>\n",
       "      <td>-1.043841</td>\n",
       "      <td>4694.824707</td>\n",
       "      <td>NaN</td>\n",
       "    </tr>\n",
       "    <tr>\n",
       "      <th>2017-09-12</th>\n",
       "      <td>4541.523926</td>\n",
       "      <td>76700.0</td>\n",
       "      <td>1.054852</td>\n",
       "      <td>0.000000</td>\n",
       "      <td>4694.824707</td>\n",
       "      <td>NaN</td>\n",
       "    </tr>\n",
       "    <tr>\n",
       "      <th>2017-09-13</th>\n",
       "      <td>4551.105469</td>\n",
       "      <td>17500.0</td>\n",
       "      <td>0.421053</td>\n",
       "      <td>0.210970</td>\n",
       "      <td>4704.405762</td>\n",
       "      <td>NaN</td>\n",
       "    </tr>\n",
       "    <tr>\n",
       "      <th>2017-09-14</th>\n",
       "      <td>4551.105469</td>\n",
       "      <td>54300.0</td>\n",
       "      <td>0.631579</td>\n",
       "      <td>0.000000</td>\n",
       "      <td>4723.568359</td>\n",
       "      <td>NaN</td>\n",
       "    </tr>\n",
       "    <tr>\n",
       "      <th>2017-09-15</th>\n",
       "      <td>4560.686523</td>\n",
       "      <td>77800.0</td>\n",
       "      <td>0.420168</td>\n",
       "      <td>0.210526</td>\n",
       "      <td>4723.568359</td>\n",
       "      <td>NaN</td>\n",
       "    </tr>\n",
       "    <tr>\n",
       "      <th>2017-09-18</th>\n",
       "      <td>4570.268066</td>\n",
       "      <td>45500.0</td>\n",
       "      <td>0.628931</td>\n",
       "      <td>0.210084</td>\n",
       "      <td>4570.268066</td>\n",
       "      <td>NaN</td>\n",
       "    </tr>\n",
       "    <tr>\n",
       "      <th>2017-09-19</th>\n",
       "      <td>4608.592773</td>\n",
       "      <td>15100.0</td>\n",
       "      <td>1.039501</td>\n",
       "      <td>0.838574</td>\n",
       "      <td>4579.849121</td>\n",
       "      <td>NaN</td>\n",
       "    </tr>\n",
       "    <tr>\n",
       "      <th>2017-09-20</th>\n",
       "      <td>4694.824707</td>\n",
       "      <td>457100.0</td>\n",
       "      <td>3.061224</td>\n",
       "      <td>1.871102</td>\n",
       "      <td>4675.662109</td>\n",
       "      <td>NaN</td>\n",
       "    </tr>\n",
       "    <tr>\n",
       "      <th>2017-09-21</th>\n",
       "      <td>4694.824707</td>\n",
       "      <td>0.0</td>\n",
       "      <td>0.000000</td>\n",
       "      <td>0.000000</td>\n",
       "      <td>4704.405762</td>\n",
       "      <td>NaN</td>\n",
       "    </tr>\n",
       "    <tr>\n",
       "      <th>2017-09-22</th>\n",
       "      <td>4704.405762</td>\n",
       "      <td>82800.0</td>\n",
       "      <td>1.425662</td>\n",
       "      <td>0.204082</td>\n",
       "      <td>4646.917969</td>\n",
       "      <td>NaN</td>\n",
       "    </tr>\n",
       "    <tr>\n",
       "      <th>2017-09-25</th>\n",
       "      <td>4723.568359</td>\n",
       "      <td>304900.0</td>\n",
       "      <td>1.217039</td>\n",
       "      <td>0.612245</td>\n",
       "      <td>4637.336914</td>\n",
       "      <td>NaN</td>\n",
       "    </tr>\n",
       "    <tr>\n",
       "      <th>2017-09-26</th>\n",
       "      <td>4723.568359</td>\n",
       "      <td>21200.0</td>\n",
       "      <td>0.405680</td>\n",
       "      <td>-0.202429</td>\n",
       "      <td>4627.755371</td>\n",
       "      <td>NaN</td>\n",
       "    </tr>\n",
       "    <tr>\n",
       "      <th>2017-09-27</th>\n",
       "      <td>4570.268066</td>\n",
       "      <td>139500.0</td>\n",
       "      <td>3.563941</td>\n",
       "      <td>-3.245436</td>\n",
       "      <td>4579.849121</td>\n",
       "      <td>NaN</td>\n",
       "    </tr>\n",
       "    <tr>\n",
       "      <th>2017-09-28</th>\n",
       "      <td>4579.849121</td>\n",
       "      <td>19200.0</td>\n",
       "      <td>1.046025</td>\n",
       "      <td>0.209644</td>\n",
       "      <td>4579.849121</td>\n",
       "      <td>NaN</td>\n",
       "    </tr>\n",
       "    <tr>\n",
       "      <th>2017-09-29</th>\n",
       "      <td>4675.662109</td>\n",
       "      <td>252100.0</td>\n",
       "      <td>2.459016</td>\n",
       "      <td>1.455301</td>\n",
       "      <td>4570.268066</td>\n",
       "      <td>NaN</td>\n",
       "    </tr>\n",
       "    <tr>\n",
       "      <th>2017-10-02</th>\n",
       "      <td>4704.405762</td>\n",
       "      <td>55500.0</td>\n",
       "      <td>0.610998</td>\n",
       "      <td>0.204082</td>\n",
       "      <td>4579.849121</td>\n",
       "      <td>NaN</td>\n",
       "    </tr>\n",
       "    <tr>\n",
       "      <th>2017-10-03</th>\n",
       "      <td>4646.917969</td>\n",
       "      <td>28200.0</td>\n",
       "      <td>1.443299</td>\n",
       "      <td>-1.422764</td>\n",
       "      <td>4608.592773</td>\n",
       "      <td>NaN</td>\n",
       "    </tr>\n",
       "    <tr>\n",
       "      <th>2017-10-04</th>\n",
       "      <td>4637.336914</td>\n",
       "      <td>12400.0</td>\n",
       "      <td>0.413223</td>\n",
       "      <td>0.000000</td>\n",
       "      <td>4608.592773</td>\n",
       "      <td>NaN</td>\n",
       "    </tr>\n",
       "    <tr>\n",
       "      <th>2017-10-05</th>\n",
       "      <td>4627.755371</td>\n",
       "      <td>11100.0</td>\n",
       "      <td>0.621118</td>\n",
       "      <td>-0.206612</td>\n",
       "      <td>4599.011719</td>\n",
       "      <td>NaN</td>\n",
       "    </tr>\n",
       "    <tr>\n",
       "      <th>2017-10-06</th>\n",
       "      <td>4579.849121</td>\n",
       "      <td>29800.0</td>\n",
       "      <td>1.464435</td>\n",
       "      <td>-1.035197</td>\n",
       "      <td>4570.268066</td>\n",
       "      <td>NaN</td>\n",
       "    </tr>\n",
       "    <tr>\n",
       "      <th>2017-10-09</th>\n",
       "      <td>4579.849121</td>\n",
       "      <td>24600.0</td>\n",
       "      <td>0.418410</td>\n",
       "      <td>0.000000</td>\n",
       "      <td>4627.755371</td>\n",
       "      <td>NaN</td>\n",
       "    </tr>\n",
       "    <tr>\n",
       "      <th>2017-10-10</th>\n",
       "      <td>4570.268066</td>\n",
       "      <td>29000.0</td>\n",
       "      <td>0.628931</td>\n",
       "      <td>-0.625000</td>\n",
       "      <td>4503.198730</td>\n",
       "      <td>NaN</td>\n",
       "    </tr>\n",
       "    <tr>\n",
       "      <th>2017-10-11</th>\n",
       "      <td>4579.849121</td>\n",
       "      <td>32700.0</td>\n",
       "      <td>0.418410</td>\n",
       "      <td>0.000000</td>\n",
       "      <td>4081.623047</td>\n",
       "      <td>NaN</td>\n",
       "    </tr>\n",
       "    <tr>\n",
       "      <th>2017-10-12</th>\n",
       "      <td>4608.592773</td>\n",
       "      <td>57400.0</td>\n",
       "      <td>0.415800</td>\n",
       "      <td>0.208333</td>\n",
       "      <td>3889.997559</td>\n",
       "      <td>NaN</td>\n",
       "    </tr>\n",
       "    <tr>\n",
       "      <th>2017-10-13</th>\n",
       "      <td>4608.592773</td>\n",
       "      <td>102200.0</td>\n",
       "      <td>0.623701</td>\n",
       "      <td>0.000000</td>\n",
       "      <td>4024.135498</td>\n",
       "      <td>NaN</td>\n",
       "    </tr>\n",
       "    <tr>\n",
       "      <th>2017-10-16</th>\n",
       "      <td>4599.011719</td>\n",
       "      <td>60800.0</td>\n",
       "      <td>0.833333</td>\n",
       "      <td>-0.207900</td>\n",
       "      <td>4215.760742</td>\n",
       "      <td>NaN</td>\n",
       "    </tr>\n",
       "    <tr>\n",
       "      <th>2017-10-17</th>\n",
       "      <td>4570.268066</td>\n",
       "      <td>145600.0</td>\n",
       "      <td>2.096436</td>\n",
       "      <td>-0.625000</td>\n",
       "      <td>4158.272949</td>\n",
       "      <td>NaN</td>\n",
       "    </tr>\n",
       "    <tr>\n",
       "      <th>2017-10-18</th>\n",
       "      <td>4627.755371</td>\n",
       "      <td>108500.0</td>\n",
       "      <td>2.898551</td>\n",
       "      <td>1.257862</td>\n",
       "      <td>4311.573242</td>\n",
       "      <td>NaN</td>\n",
       "    </tr>\n",
       "    <tr>\n",
       "      <th>2017-10-19</th>\n",
       "      <td>4503.198730</td>\n",
       "      <td>87300.0</td>\n",
       "      <td>3.404255</td>\n",
       "      <td>-2.691511</td>\n",
       "      <td>4369.061035</td>\n",
       "      <td>NaN</td>\n",
       "    </tr>\n",
       "    <tr>\n",
       "      <th>2017-10-20</th>\n",
       "      <td>4081.623047</td>\n",
       "      <td>1865200.0</td>\n",
       "      <td>9.859155</td>\n",
       "      <td>-8.974359</td>\n",
       "      <td>4369.061035</td>\n",
       "      <td>NaN</td>\n",
       "    </tr>\n",
       "    <tr>\n",
       "      <th>2017-10-23</th>\n",
       "      <td>3889.997559</td>\n",
       "      <td>677700.0</td>\n",
       "      <td>7.142857</td>\n",
       "      <td>-4.694836</td>\n",
       "      <td>4369.061035</td>\n",
       "      <td>NaN</td>\n",
       "    </tr>\n",
       "    <tr>\n",
       "      <th>2017-10-24</th>\n",
       "      <td>4024.135498</td>\n",
       "      <td>418500.0</td>\n",
       "      <td>7.857143</td>\n",
       "      <td>3.448276</td>\n",
       "      <td>4196.598145</td>\n",
       "      <td>NaN</td>\n",
       "    </tr>\n",
       "    <tr>\n",
       "      <th>2017-10-25</th>\n",
       "      <td>4215.760742</td>\n",
       "      <td>135500.0</td>\n",
       "      <td>5.000000</td>\n",
       "      <td>4.265403</td>\n",
       "      <td>NaN</td>\n",
       "      <td>NaN</td>\n",
       "    </tr>\n",
       "    <tr>\n",
       "      <th>2017-10-26</th>\n",
       "      <td>4158.272949</td>\n",
       "      <td>89700.0</td>\n",
       "      <td>2.304147</td>\n",
       "      <td>-1.363636</td>\n",
       "      <td>NaN</td>\n",
       "      <td>NaN</td>\n",
       "    </tr>\n",
       "    <tr>\n",
       "      <th>2017-10-27</th>\n",
       "      <td>4311.573242</td>\n",
       "      <td>71900.0</td>\n",
       "      <td>3.555556</td>\n",
       "      <td>3.448276</td>\n",
       "      <td>NaN</td>\n",
       "      <td>NaN</td>\n",
       "    </tr>\n",
       "    <tr>\n",
       "      <th>2017-10-30</th>\n",
       "      <td>4369.061035</td>\n",
       "      <td>55700.0</td>\n",
       "      <td>1.973684</td>\n",
       "      <td>1.333333</td>\n",
       "      <td>NaN</td>\n",
       "      <td>NaN</td>\n",
       "    </tr>\n",
       "    <tr>\n",
       "      <th>2017-10-31</th>\n",
       "      <td>4369.061035</td>\n",
       "      <td>53900.0</td>\n",
       "      <td>2.412281</td>\n",
       "      <td>0.000000</td>\n",
       "      <td>NaN</td>\n",
       "      <td>NaN</td>\n",
       "    </tr>\n",
       "    <tr>\n",
       "      <th>2017-11-01</th>\n",
       "      <td>4369.061035</td>\n",
       "      <td>18300.0</td>\n",
       "      <td>0.657895</td>\n",
       "      <td>0.440529</td>\n",
       "      <td>NaN</td>\n",
       "      <td>NaN</td>\n",
       "    </tr>\n",
       "    <tr>\n",
       "      <th>2017-11-02</th>\n",
       "      <td>4196.598145</td>\n",
       "      <td>44200.0</td>\n",
       "      <td>4.109589</td>\n",
       "      <td>-3.947368</td>\n",
       "      <td>NaN</td>\n",
       "      <td>NaN</td>\n",
       "    </tr>\n",
       "    <tr>\n",
       "      <th>2017-11-03</th>\n",
       "      <td>NaN</td>\n",
       "      <td>NaN</td>\n",
       "      <td>NaN</td>\n",
       "      <td>NaN</td>\n",
       "      <td>NaN</td>\n",
       "      <td>4241.998876</td>\n",
       "    </tr>\n",
       "    <tr>\n",
       "      <th>2017-11-04</th>\n",
       "      <td>NaN</td>\n",
       "      <td>NaN</td>\n",
       "      <td>NaN</td>\n",
       "      <td>NaN</td>\n",
       "      <td>NaN</td>\n",
       "      <td>4149.674650</td>\n",
       "    </tr>\n",
       "    <tr>\n",
       "      <th>2017-11-05</th>\n",
       "      <td>NaN</td>\n",
       "      <td>NaN</td>\n",
       "      <td>NaN</td>\n",
       "      <td>NaN</td>\n",
       "      <td>NaN</td>\n",
       "      <td>4327.001955</td>\n",
       "    </tr>\n",
       "    <tr>\n",
       "      <th>2017-11-06</th>\n",
       "      <td>NaN</td>\n",
       "      <td>NaN</td>\n",
       "      <td>NaN</td>\n",
       "      <td>NaN</td>\n",
       "      <td>NaN</td>\n",
       "      <td>4367.737674</td>\n",
       "    </tr>\n",
       "    <tr>\n",
       "      <th>2017-11-07</th>\n",
       "      <td>NaN</td>\n",
       "      <td>NaN</td>\n",
       "      <td>NaN</td>\n",
       "      <td>NaN</td>\n",
       "      <td>NaN</td>\n",
       "      <td>4363.227092</td>\n",
       "    </tr>\n",
       "    <tr>\n",
       "      <th>2017-11-08</th>\n",
       "      <td>NaN</td>\n",
       "      <td>NaN</td>\n",
       "      <td>NaN</td>\n",
       "      <td>NaN</td>\n",
       "      <td>NaN</td>\n",
       "      <td>4358.816515</td>\n",
       "    </tr>\n",
       "    <tr>\n",
       "      <th>2017-11-09</th>\n",
       "      <td>NaN</td>\n",
       "      <td>NaN</td>\n",
       "      <td>NaN</td>\n",
       "      <td>NaN</td>\n",
       "      <td>NaN</td>\n",
       "      <td>4182.251674</td>\n",
       "    </tr>\n",
       "  </tbody>\n",
       "</table>\n",
       "</div>"
      ],
      "text/plain": [
       "              Adj Close     Volume    HL_PCT  PCT_change        label  \\\n",
       "Date                                                                    \n",
       "2017-09-05  4531.942871    15300.0  0.634249   -0.210970  4551.105469   \n",
       "2017-09-06  4531.942871    11700.0  0.211416    0.000000  4560.686523   \n",
       "2017-09-07  4484.036133    93200.0  1.709402   -1.057082  4570.268066   \n",
       "2017-09-08  4589.430176   171100.0  2.713987    2.569593  4608.592773   \n",
       "2017-09-11  4541.523926    87000.0  1.265823   -1.043841  4694.824707   \n",
       "2017-09-12  4541.523926    76700.0  1.054852    0.000000  4694.824707   \n",
       "2017-09-13  4551.105469    17500.0  0.421053    0.210970  4704.405762   \n",
       "2017-09-14  4551.105469    54300.0  0.631579    0.000000  4723.568359   \n",
       "2017-09-15  4560.686523    77800.0  0.420168    0.210526  4723.568359   \n",
       "2017-09-18  4570.268066    45500.0  0.628931    0.210084  4570.268066   \n",
       "2017-09-19  4608.592773    15100.0  1.039501    0.838574  4579.849121   \n",
       "2017-09-20  4694.824707   457100.0  3.061224    1.871102  4675.662109   \n",
       "2017-09-21  4694.824707        0.0  0.000000    0.000000  4704.405762   \n",
       "2017-09-22  4704.405762    82800.0  1.425662    0.204082  4646.917969   \n",
       "2017-09-25  4723.568359   304900.0  1.217039    0.612245  4637.336914   \n",
       "2017-09-26  4723.568359    21200.0  0.405680   -0.202429  4627.755371   \n",
       "2017-09-27  4570.268066   139500.0  3.563941   -3.245436  4579.849121   \n",
       "2017-09-28  4579.849121    19200.0  1.046025    0.209644  4579.849121   \n",
       "2017-09-29  4675.662109   252100.0  2.459016    1.455301  4570.268066   \n",
       "2017-10-02  4704.405762    55500.0  0.610998    0.204082  4579.849121   \n",
       "2017-10-03  4646.917969    28200.0  1.443299   -1.422764  4608.592773   \n",
       "2017-10-04  4637.336914    12400.0  0.413223    0.000000  4608.592773   \n",
       "2017-10-05  4627.755371    11100.0  0.621118   -0.206612  4599.011719   \n",
       "2017-10-06  4579.849121    29800.0  1.464435   -1.035197  4570.268066   \n",
       "2017-10-09  4579.849121    24600.0  0.418410    0.000000  4627.755371   \n",
       "2017-10-10  4570.268066    29000.0  0.628931   -0.625000  4503.198730   \n",
       "2017-10-11  4579.849121    32700.0  0.418410    0.000000  4081.623047   \n",
       "2017-10-12  4608.592773    57400.0  0.415800    0.208333  3889.997559   \n",
       "2017-10-13  4608.592773   102200.0  0.623701    0.000000  4024.135498   \n",
       "2017-10-16  4599.011719    60800.0  0.833333   -0.207900  4215.760742   \n",
       "2017-10-17  4570.268066   145600.0  2.096436   -0.625000  4158.272949   \n",
       "2017-10-18  4627.755371   108500.0  2.898551    1.257862  4311.573242   \n",
       "2017-10-19  4503.198730    87300.0  3.404255   -2.691511  4369.061035   \n",
       "2017-10-20  4081.623047  1865200.0  9.859155   -8.974359  4369.061035   \n",
       "2017-10-23  3889.997559   677700.0  7.142857   -4.694836  4369.061035   \n",
       "2017-10-24  4024.135498   418500.0  7.857143    3.448276  4196.598145   \n",
       "2017-10-25  4215.760742   135500.0  5.000000    4.265403          NaN   \n",
       "2017-10-26  4158.272949    89700.0  2.304147   -1.363636          NaN   \n",
       "2017-10-27  4311.573242    71900.0  3.555556    3.448276          NaN   \n",
       "2017-10-30  4369.061035    55700.0  1.973684    1.333333          NaN   \n",
       "2017-10-31  4369.061035    53900.0  2.412281    0.000000          NaN   \n",
       "2017-11-01  4369.061035    18300.0  0.657895    0.440529          NaN   \n",
       "2017-11-02  4196.598145    44200.0  4.109589   -3.947368          NaN   \n",
       "2017-11-03          NaN        NaN       NaN         NaN          NaN   \n",
       "2017-11-04          NaN        NaN       NaN         NaN          NaN   \n",
       "2017-11-05          NaN        NaN       NaN         NaN          NaN   \n",
       "2017-11-06          NaN        NaN       NaN         NaN          NaN   \n",
       "2017-11-07          NaN        NaN       NaN         NaN          NaN   \n",
       "2017-11-08          NaN        NaN       NaN         NaN          NaN   \n",
       "2017-11-09          NaN        NaN       NaN         NaN          NaN   \n",
       "\n",
       "               Forecast  \n",
       "Date                     \n",
       "2017-09-05          NaN  \n",
       "2017-09-06          NaN  \n",
       "2017-09-07          NaN  \n",
       "2017-09-08          NaN  \n",
       "2017-09-11          NaN  \n",
       "2017-09-12          NaN  \n",
       "2017-09-13          NaN  \n",
       "2017-09-14          NaN  \n",
       "2017-09-15          NaN  \n",
       "2017-09-18          NaN  \n",
       "2017-09-19          NaN  \n",
       "2017-09-20          NaN  \n",
       "2017-09-21          NaN  \n",
       "2017-09-22          NaN  \n",
       "2017-09-25          NaN  \n",
       "2017-09-26          NaN  \n",
       "2017-09-27          NaN  \n",
       "2017-09-28          NaN  \n",
       "2017-09-29          NaN  \n",
       "2017-10-02          NaN  \n",
       "2017-10-03          NaN  \n",
       "2017-10-04          NaN  \n",
       "2017-10-05          NaN  \n",
       "2017-10-06          NaN  \n",
       "2017-10-09          NaN  \n",
       "2017-10-10          NaN  \n",
       "2017-10-11          NaN  \n",
       "2017-10-12          NaN  \n",
       "2017-10-13          NaN  \n",
       "2017-10-16          NaN  \n",
       "2017-10-17          NaN  \n",
       "2017-10-18          NaN  \n",
       "2017-10-19          NaN  \n",
       "2017-10-20          NaN  \n",
       "2017-10-23          NaN  \n",
       "2017-10-24          NaN  \n",
       "2017-10-25          NaN  \n",
       "2017-10-26          NaN  \n",
       "2017-10-27          NaN  \n",
       "2017-10-30          NaN  \n",
       "2017-10-31          NaN  \n",
       "2017-11-01          NaN  \n",
       "2017-11-02          NaN  \n",
       "2017-11-03  4241.998876  \n",
       "2017-11-04  4149.674650  \n",
       "2017-11-05  4327.001955  \n",
       "2017-11-06  4367.737674  \n",
       "2017-11-07  4363.227092  \n",
       "2017-11-08  4358.816515  \n",
       "2017-11-09  4182.251674  "
      ]
     },
     "execution_count": 31,
     "metadata": {},
     "output_type": "execute_result"
    }
   ],
   "source": [
    "dfreg.tail(50)"
   ]
  },
  {
   "cell_type": "code",
   "execution_count": 32,
   "metadata": {},
   "outputs": [
    {
     "data": {
      "image/png": "[encoded data removed]",
      "text/plain": [
       "<matplotlib.figure.Figure at 0x1db1a83ee48>"
      ]
     },
     "metadata": {},
     "output_type": "display_data"
    }
   ],
   "source": [
    "dfreg['Adj Close'].tail(100).plot()\n",
    "dfreg['Forecast'].tail(100).plot()\n",
    "plt.legend(loc=2)\n",
    "plt.xlabel('Date')\n",
    "plt.ylabel('Price')\n",
    "plt.show()"
   ]
  },
  {
   "cell_type": "code",
   "execution_count": 33,
   "metadata": {},
   "outputs": [
    {
     "data": {
      "text/plain": [
       "array([4241.99887621, 4149.67464978, 4327.00195526, 4367.73767382,\n",
       "       4363.22709198, 4358.81651477, 4182.25167361])"
      ]
     },
     "execution_count": 33,
     "metadata": {},
     "output_type": "execute_result"
    }
   ],
   "source": [
    "forecast_set"
   ]
  },
  {
   "cell_type": "code",
   "execution_count": 34,
   "metadata": {},
   "outputs": [
    {
     "data": {
      "text/plain": [
       "[<matplotlib.lines.Line2D at 0x1db1ca53780>]"
      ]
     },
     "execution_count": 34,
     "metadata": {},
     "output_type": "execute_result"
    },
    {
     "data": {
      "image/png": "[encoded data removed]",
      "text/plain": [
       "<matplotlib.figure.Figure at 0x1db1c99a860>"
      ]
     },
     "metadata": {},
     "output_type": "display_data"
    }
   ],
   "source": [
    "plt.plot(forecast_set)"
   ]
  },
  {
   "cell_type": "code",
   "execution_count": 35,
   "metadata": {},
   "outputs": [
    {
     "data": {
      "text/plain": [
       "Date\n",
       "2017-11-02    4196.598145\n",
       "Name: Adj Close, dtype: float64"
      ]
     },
     "execution_count": 35,
     "metadata": {},
     "output_type": "execute_result"
    }
   ],
   "source": [
    "df[-1:]['Adj Close']"
   ]
  },
  {
   "cell_type": "code",
   "execution_count": 36,
   "metadata": {},
   "outputs": [
    {
     "data": {
      "text/plain": [
       "4149.674649783357"
      ]
     },
     "execution_count": 36,
     "metadata": {},
     "output_type": "execute_result"
    }
   ],
   "source": [
    "forecast_set.min()"
   ]
  },
  {
   "cell_type": "code",
   "execution_count": 39,
   "metadata": {},
   "outputs": [
    {
     "data": {
      "text/plain": [
       "4196.59814453125"
      ]
     },
     "execution_count": 39,
     "metadata": {},
     "output_type": "execute_result"
    }
   ],
   "source": [
    "df['Adj Close'][-1]"
   ]
  },
  {
   "cell_type": "code",
   "execution_count": null,
   "metadata": {},
   "outputs": [],
   "source": []
  }
 ],
 "metadata": {
  "kernelspec": {
   "display_name": "Python 3",
   "language": "python",
   "name": "python3"
  },
  "language_info": {
   "codemirror_mode": {
    "name": "ipython",
    "version": 3
   },
   "file_extension": ".py",
   "mimetype": "text/x-python",
   "name": "python",
   "nbconvert_exporter": "python",
   "pygments_lexer": "ipython3",
   "version": "3.6.4"
  }
 },
 "nbformat": 4,
 "nbformat_minor": 2
}
